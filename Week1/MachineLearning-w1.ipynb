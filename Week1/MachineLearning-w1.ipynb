{
 "cells": [
  {
   "cell_type": "markdown",
   "id": "d59fc0b4-b051-40d2-87b3-05ff0218713c",
   "metadata": {},
   "source": [
    "**Some Basic Examples**"
   ]
  },
  {
   "cell_type": "code",
   "execution_count": 2,
   "id": "f4970459-574c-4d68-b078-a6075ed6521d",
   "metadata": {},
   "outputs": [
    {
     "name": "stdout",
     "output_type": "stream",
     "text": [
      "10\n",
      "20\n",
      "pazartesi\n"
     ]
    },
    {
     "data": {
      "text/plain": [
       "str"
      ]
     },
     "execution_count": 2,
     "metadata": {},
     "output_type": "execute_result"
    }
   ],
   "source": [
    "a=10\n",
    "var1=20\n",
    "x=\"pazartesi\"\n",
    "\n",
    "print(a)\n",
    "print(var1)\n",
    "print(x)\n",
    "type(x)"
   ]
  },
  {
   "cell_type": "code",
   "execution_count": 4,
   "id": "9ebcf9fe-79eb-4c40-9e1e-782d21207bee",
   "metadata": {},
   "outputs": [
    {
     "name": "stdout",
     "output_type": "stream",
     "text": [
      "[10, 20, 30]\n"
     ]
    }
   ],
   "source": [
    "#DEFİNE A LİST\n",
    "var1=10\n",
    "var2=20\n",
    "var3=30\n",
    "list_int=[10,20,30]\n",
    "print(list_int)"
   ]
  },
  {
   "cell_type": "code",
   "execution_count": 5,
   "id": "2fb01a6d-ad4d-4ee1-befe-a62d1a936dbb",
   "metadata": {},
   "outputs": [
    {
     "data": {
      "text/plain": [
       "10"
      ]
     },
     "execution_count": 5,
     "metadata": {},
     "output_type": "execute_result"
    }
   ],
   "source": [
    "#First element of the list\n",
    "list_int[0]"
   ]
  },
  {
   "cell_type": "code",
   "execution_count": 6,
   "id": "8741620a-7c84-4375-822f-545279ea20ee",
   "metadata": {},
   "outputs": [
    {
     "data": {
      "text/plain": [
       "30"
      ]
     },
     "execution_count": 6,
     "metadata": {},
     "output_type": "execute_result"
    }
   ],
   "source": [
    "#Last element of the list\n",
    "list_int[-1]"
   ]
  },
  {
   "cell_type": "code",
   "execution_count": 10,
   "id": "811a8869-24bf-4b6f-a741-2f475cb083de",
   "metadata": {},
   "outputs": [
    {
     "data": {
      "text/plain": [
       "[10, 20, 30]"
      ]
     },
     "execution_count": 10,
     "metadata": {},
     "output_type": "execute_result"
    }
   ],
   "source": [
    "#variables in the range of list\n",
    "list_int[0:3]"
   ]
  },
  {
   "cell_type": "code",
   "execution_count": 11,
   "id": "e7fd7dee-9d57-4a7f-b7ef-c33031e60b97",
   "metadata": {},
   "outputs": [
    {
     "name": "stdout",
     "output_type": "stream",
     "text": [
      "[10, 20, 30, 25]\n"
     ]
    }
   ],
   "source": [
    "#to add variables to the list\n",
    "list_int.append(25)\n",
    "print(list_int)"
   ]
  },
  {
   "cell_type": "code",
   "execution_count": 12,
   "id": "fb9527d5-a4b1-4f85-9c7d-271016e52f5a",
   "metadata": {},
   "outputs": [
    {
     "name": "stdout",
     "output_type": "stream",
     "text": [
      "[10, 20, 30]\n"
     ]
    }
   ],
   "source": [
    "#to delete variables to the list \n",
    "list_int.remove(25)\n",
    "print(list_int)"
   ]
  },
  {
   "cell_type": "code",
   "execution_count": null,
   "id": "9bd0a2eb-e964-4888-b177-2535c6dc494b",
   "metadata": {},
   "outputs": [],
   "source": []
  }
 ],
 "metadata": {
  "kernelspec": {
   "display_name": "Python 3 (ipykernel)",
   "language": "python",
   "name": "python3"
  },
  "language_info": {
   "codemirror_mode": {
    "name": "ipython",
    "version": 3
   },
   "file_extension": ".py",
   "mimetype": "text/x-python",
   "name": "python",
   "nbconvert_exporter": "python",
   "pygments_lexer": "ipython3",
   "version": "3.11.7"
  }
 },
 "nbformat": 4,
 "nbformat_minor": 5
}
