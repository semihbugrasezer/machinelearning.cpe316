{
 "cells": [
  {
   "cell_type": "markdown",
   "id": "043a1432-c77c-4113-b825-5506f7bda24c",
   "metadata": {},
   "source": [
    "**Data Exploration and Cleaning**\n"
   ]
  },
  {
   "cell_type": "code",
   "execution_count": null,
   "id": "fa963f0d-4616-45dc-b3a2-88ad80dfdc98",
   "metadata": {},
   "outputs": [],
   "source": [
    "import numpy as np\n",
    "import pandas as pd\n",
    "import os"
   ]
  },
  {
   "cell_type": "code",
   "execution_count": null,
   "id": "724da5f4-d5d8-4273-b355-23e5157e1d14",
   "metadata": {},
   "outputs": [],
   "source": [
    "titanic_train = pd.read_csv(\"C:/Users/Beyza/Desktop/ML/data/train.csv\")      # Read the data"
   ]
  },
  {
   "cell_type": "code",
   "execution_count": null,
   "id": "58d0095e-08c6-4981-9295-91b8387ea838",
   "metadata": {},
   "outputs": [],
   "source": [
    "titanic_train.shape      # Check dimensions"
   ]
  },
  {
   "cell_type": "code",
   "execution_count": null,
   "id": "d6e23c2e-4a25-4be5-85a6-10726b1feb74",
   "metadata": {},
   "outputs": [],
   "source": [
    "titanic_train.head(5)  # Check the first 5 rows"
   ]
  },
  {
   "cell_type": "code",
   "execution_count": null,
   "id": "26f32139-0fe6-4db2-b896-aec93bf59c96",
   "metadata": {},
   "outputs": [],
   "source": [
    "categorical = titanic_train.dtypes[titanic_train.dtypes == \"object\"].index\n",
    "print(categorical)\n",
    "titanic_train[categorical].describe()"
   ]
  },
  {
   "cell_type": "code",
   "execution_count": null,
   "id": "df1ef13b-bb39-42f8-8f01-8c38af867893",
   "metadata": {},
   "outputs": [],
   "source": [
    "titanic_train[\"Ticket\"][0:15]       # Check the first 15 tickets"
   ]
  },
  {
   "cell_type": "code",
   "execution_count": null,
   "id": "63ef7942-737c-4177-a0f1-4649a45046ae",
   "metadata": {},
   "outputs": [],
   "source": [
    "titanic_train[\"Ticket\"].describe()"
   ]
  },
  {
   "cell_type": "code",
   "execution_count": null,
   "id": "bd1d34f6-275a-43b7-8669-76f76bbc9250",
   "metadata": {},
   "outputs": [],
   "source": [
    "del titanic_train[\"Ticket\"]        # Remove Ticket"
   ]
  },
  {
   "cell_type": "code",
   "execution_count": null,
   "id": "0e9369f7-f261-47e0-93b3-59b40d7d77cd",
   "metadata": {},
   "outputs": [],
   "source": [
    "new_Pclass = pd.Categorical(titanic_train[\"Pclass\"], ordered=True)\n",
    "new_Pclass = new_Pclass.rename_categories([\"Class1\",\"Class2\",\"Class3\"])\n",
    "new_Pclass.describe()"
   ]
  }
 ],
 "metadata": {
  "kernelspec": {
   "display_name": "Python 3 (ipykernel)",
   "language": "python",
   "name": "python3"
  },
  "language_info": {
   "codemirror_mode": {
    "name": "ipython",
    "version": 3
   },
   "file_extension": ".py",
   "mimetype": "text/x-python",
   "name": "python",
   "nbconvert_exporter": "python",
   "pygments_lexer": "ipython3",
   "version": "3.11.7"
  }
 },
 "nbformat": 4,
 "nbformat_minor": 5
}
