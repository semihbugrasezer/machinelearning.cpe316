{
 "cells": [
  {
   "cell_type": "code",
   "execution_count": null,
   "id": "ae9314c7-b894-4619-be57-51fbb0d8ea1c",
   "metadata": {},
   "outputs": [],
   "source": [
    "# importing packages\n",
    "import seaborn as sns\n",
    "import matplotlib.pyplot as plt\n",
    "\n",
    "# loading dataset x\n",
    "data = sns.load_dataset(\"iris\")\n",
    "# draw lineplot\n",
    "sns.lineplot(x=\"sepal_length\", y=\"sepal_width\", data=data)\n",
    "plt.title('Title using Matplotlib Function')\n",
    "plt.xlim(5)\n",
    "sns.set_style(\"dark\")\n",
    "plt.show()\n"
   ]
  },
  {
   "cell_type": "code",
   "execution_count": null,
   "id": "4b6d0cc3-da4d-4127-8e0f-db260b1d667a",
   "metadata": {},
   "outputs": [],
   "source": [
    "import seaborn as sns\n",
    "import matplotlib.pyplot as plt\n",
    "\n",
    "tips = sns.load_dataset(\"tips\")\n",
    "# customize the scatter plot\n",
    "sns.scatterplot(x=\"total_bill\", y=\"tip\", hue=\"sex\", size=\"size\", sizes=(50, 200), data=tips)\n",
    "# add labels and title\n",
    "plt.xlabel(\"Total Bill\")\n",
    "plt.ylabel(\"Tip\")\n",
    "plt.title(\"Relationship between Total Bill and Tip\")\n",
    "plt.show()"
   ]
  },
  {
   "cell_type": "code",
   "execution_count": null,
   "id": "4941cf0b-54b4-4bb1-86b3-625124ca03a6",
   "metadata": {},
   "outputs": [],
   "source": [
    "import seaborn as sns\n",
    "import matplotlib.pyplot as plt\n",
    "\n",
    "titanic = sns.load_dataset(\"titanic\")\n",
    "# customize the bar plot\n",
    "sns.barplot(x=\"class\", y=\"fare\", hue=\"sex\", palette=\"muted\", data=titanic)\n",
    "# add labels and title\n",
    "plt.xlabel(\"Class\")\n",
    "plt.ylabel(\"Fare\")\n",
    "plt.title(\"Average Fare by Class and Gender on the Titanic\")\n",
    "plt.show()"
   ]
  },
  {
   "cell_type": "code",
   "execution_count": null,
   "id": "ed931974-8b4a-46c4-88b6-b18b31917af2",
   "metadata": {},
   "outputs": [],
   "source": [
    "import seaborn as sns\n",
    "import matplotlib.pyplot as plt\n",
    "\n",
    "# Load the dataset\n",
    "flights = sns.load_dataset('flights')\n",
    "# Pivot the data\n",
    "flights = flights.pivot('month', 'year', 'passengers')\n",
    "# Create a heatmap\n",
    "sns.heatmap(flights, cmap='Blues', annot=True, fmt='d')\n",
    "# Set the title and axis labels\n",
    "plt.title('Passengers per month')\n",
    "plt.xlabel('Year')\n",
    "plt.ylabel('Month')\n",
    "plt.show()"
   ]
  },
  {
   "cell_type": "code",
   "execution_count": null,
   "id": "a173971c-8433-4e56-87e4-108e9139849c",
   "metadata": {},
   "outputs": [],
   "source": [
    "import seaborn as sns\n",
    "import matplotlib.pyplot as plt\n",
    "\n",
    "# load the tips dataset from Seaborn\n",
    "tips = sns.load_dataset(\"tips\")\n",
    "\n",
    "sns.boxplot(x=\"day\", y=\"total_bill\", hue=\"time\", data=tips, palette=\"Set3\", linewidth=1.5, fliersize=4)\n",
    "\n",
    "\n",
    "# add a title, xlabel, and ylabel to the plot using Matplotlib functions\n",
    "\n",
    "plt.title(\"Box Plot of Total Bill by Day and Meal Time\")\n",
    "\n",
    "plt.xlabel(\"Day of the Week\")\n",
    "\n",
    "plt.ylabel(\"Total Bill ($)\")\n",
    "\n",
    "plt.show()"
   ]
  },
  {
   "cell_type": "markdown",
   "id": "7737254e-bae6-48e3-9a24-7f0d693448e2",
   "metadata": {},
   "source": [
    "# PLOTLY"
   ]
  },
  {
   "cell_type": "code",
   "execution_count": null,
   "id": "892e43f9-2ca1-4369-b82e-81b8d612329b",
   "metadata": {},
   "outputs": [],
   "source": [
    "import plotly.express as px\n",
    "\n",
    "\n",
    "# Creating the Figure instance\n",
    "fig = px.line(x=[1, 2, 3], y=[1, 2, 3])\n",
    "\n",
    "# showing the plot\n",
    "fig.show()\n"
   ]
  }
 ],
 "metadata": {
  "kernelspec": {
   "display_name": "Python 3 (ipykernel)",
   "language": "python",
   "name": "python3"
  },
  "language_info": {
   "codemirror_mode": {
    "name": "ipython",
    "version": 3
   },
   "file_extension": ".py",
   "mimetype": "text/x-python",
   "name": "python",
   "nbconvert_exporter": "python",
   "pygments_lexer": "ipython3",
   "version": "3.11.7"
  }
 },
 "nbformat": 4,
 "nbformat_minor": 5
}
